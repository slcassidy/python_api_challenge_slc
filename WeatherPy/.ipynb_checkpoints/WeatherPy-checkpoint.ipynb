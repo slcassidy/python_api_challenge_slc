{
 "cells": [
  {
   "cell_type": "markdown",
   "metadata": {},
   "source": [
    "# WeatherPy\n",
    "----\n",
    "\n",
    "#### Note\n",
    "* Instructions have been included for each segment. You do not have to follow them exactly, but they are included to help you think through the steps."
   ]
  },
  {
   "cell_type": "code",
   "execution_count": 57,
   "metadata": {
    "scrolled": true
   },
   "outputs": [],
   "source": [
    "# Dependencies and Setup\n",
    "import matplotlib.pyplot as plt\n",
    "import pandas as pd\n",
    "import numpy as np\n",
    "import requests\n",
    "import time\n",
    "from scipy.stats import linregress\n",
    "from pprint import pprint\n",
    "\n",
    "# Import API key\n",
    "from api_keys import weather_api_key\n",
    "\n",
    "# Incorporated citipy to determine city based on latitude and longitude\n",
    "from citipy import citipy\n",
    "\n",
    "# Output File (CSV)\n",
    "output_data_file = \"../output_data/cities.csv\"\n",
    "\n",
    "# Range of latitudes and longitudes\n",
    "lat_range = (-90, 90)\n",
    "lng_range = (-180, 180)"
   ]
  },
  {
   "cell_type": "code",
   "execution_count": 58,
   "metadata": {},
   "outputs": [
    {
     "name": "stdout",
     "output_type": "stream",
     "text": [
      "http://api.openweathermap.org/data/2.5/weather?appid=784d9b5b147e23542929e3e54b04db06&units=imperial&q=portland\n"
     ]
    }
   ],
   "source": [
    "# Save config information.\n",
    "url = \"http://api.openweathermap.org/data/2.5/weather?\"\n",
    "units = \"imperial\"\n",
    "\n",
    "# Build partial query URL\n",
    "query_url = f\"{url}appid={weather_api_key}&units={units}&q=\"\n",
    "test = (query_url + \"portland\")\n",
    "print(test)\n",
    "\n"
   ]
  },
  {
   "cell_type": "code",
   "execution_count": null,
   "metadata": {},
   "outputs": [],
   "source": []
  },
  {
   "cell_type": "markdown",
   "metadata": {},
   "source": [
    "## Generate Cities List"
   ]
  },
  {
   "cell_type": "code",
   "execution_count": 59,
   "metadata": {},
   "outputs": [
    {
     "data": {
      "text/plain": [
       "636"
      ]
     },
     "execution_count": 59,
     "metadata": {},
     "output_type": "execute_result"
    }
   ],
   "source": [
    "# List for holding lat_lngs and cities\n",
    "lat_lngs = []\n",
    "cities = []\n",
    "\n",
    "# Create a set of random lat and lng combinations\n",
    "lats = np.random.uniform(low=-90.000, high=90.000, size=1500)\n",
    "lngs = np.random.uniform(low=-180.000, high=180.000, size=1500)\n",
    "lat_lngs = zip(lats, lngs)\n",
    "\n",
    "# Identify nearest city for each lat, lng combination\n",
    "for lat_lng in lat_lngs:\n",
    "    city = citipy.nearest_city(lat_lng[0], lat_lng[1]).city_name\n",
    "    \n",
    "    # If the city is unique, then add it to a our cities list\n",
    "    if city not in cities:\n",
    "        cities.append(city)\n",
    "\n",
    "# Print the city count to confirm sufficient count\n",
    "len(cities)\n",
    "#pprint(cities)\n",
    "#len(lat_lngs)"
   ]
  },
  {
   "cell_type": "code",
   "execution_count": 60,
   "metadata": {},
   "outputs": [
    {
     "data": {
      "text/html": [
       "<div>\n",
       "<style scoped>\n",
       "    .dataframe tbody tr th:only-of-type {\n",
       "        vertical-align: middle;\n",
       "    }\n",
       "\n",
       "    .dataframe tbody tr th {\n",
       "        vertical-align: top;\n",
       "    }\n",
       "\n",
       "    .dataframe thead th {\n",
       "        text-align: right;\n",
       "    }\n",
       "</style>\n",
       "<table border=\"1\" class=\"dataframe\">\n",
       "  <thead>\n",
       "    <tr style=\"text-align: right;\">\n",
       "      <th></th>\n",
       "      <th>city</th>\n",
       "    </tr>\n",
       "  </thead>\n",
       "  <tbody>\n",
       "    <tr>\n",
       "      <th>0</th>\n",
       "      <td>cape town</td>\n",
       "    </tr>\n",
       "    <tr>\n",
       "      <th>1</th>\n",
       "      <td>mataura</td>\n",
       "    </tr>\n",
       "    <tr>\n",
       "      <th>2</th>\n",
       "      <td>port-gentil</td>\n",
       "    </tr>\n",
       "    <tr>\n",
       "      <th>3</th>\n",
       "      <td>nikolskoye</td>\n",
       "    </tr>\n",
       "    <tr>\n",
       "      <th>4</th>\n",
       "      <td>arraial do cabo</td>\n",
       "    </tr>\n",
       "  </tbody>\n",
       "</table>\n",
       "</div>"
      ],
      "text/plain": [
       "              city\n",
       "0        cape town\n",
       "1          mataura\n",
       "2      port-gentil\n",
       "3       nikolskoye\n",
       "4  arraial do cabo"
      ]
     },
     "execution_count": 60,
     "metadata": {},
     "output_type": "execute_result"
    }
   ],
   "source": [
    "city_info = pd.DataFrame({\"city\": cities})\n",
    "city_info.head()"
   ]
  },
  {
   "cell_type": "code",
   "execution_count": 61,
   "metadata": {},
   "outputs": [
    {
     "data": {
      "text/html": [
       "<div>\n",
       "<style scoped>\n",
       "    .dataframe tbody tr th:only-of-type {\n",
       "        vertical-align: middle;\n",
       "    }\n",
       "\n",
       "    .dataframe tbody tr th {\n",
       "        vertical-align: top;\n",
       "    }\n",
       "\n",
       "    .dataframe thead th {\n",
       "        text-align: right;\n",
       "    }\n",
       "</style>\n",
       "<table border=\"1\" class=\"dataframe\">\n",
       "  <thead>\n",
       "    <tr style=\"text-align: right;\">\n",
       "      <th></th>\n",
       "      <th>city</th>\n",
       "      <th>cloudiness</th>\n",
       "      <th>lat</th>\n",
       "      <th>long</th>\n",
       "      <th>country</th>\n",
       "      <th>date</th>\n",
       "      <th>humidity</th>\n",
       "      <th>max_temp</th>\n",
       "      <th>wind_speed</th>\n",
       "    </tr>\n",
       "  </thead>\n",
       "  <tbody>\n",
       "    <tr>\n",
       "      <th>0</th>\n",
       "      <td>cape town</td>\n",
       "      <td></td>\n",
       "      <td></td>\n",
       "      <td></td>\n",
       "      <td></td>\n",
       "      <td></td>\n",
       "      <td></td>\n",
       "      <td></td>\n",
       "      <td></td>\n",
       "    </tr>\n",
       "    <tr>\n",
       "      <th>1</th>\n",
       "      <td>mataura</td>\n",
       "      <td></td>\n",
       "      <td></td>\n",
       "      <td></td>\n",
       "      <td></td>\n",
       "      <td></td>\n",
       "      <td></td>\n",
       "      <td></td>\n",
       "      <td></td>\n",
       "    </tr>\n",
       "    <tr>\n",
       "      <th>2</th>\n",
       "      <td>port-gentil</td>\n",
       "      <td></td>\n",
       "      <td></td>\n",
       "      <td></td>\n",
       "      <td></td>\n",
       "      <td></td>\n",
       "      <td></td>\n",
       "      <td></td>\n",
       "      <td></td>\n",
       "    </tr>\n",
       "    <tr>\n",
       "      <th>3</th>\n",
       "      <td>nikolskoye</td>\n",
       "      <td></td>\n",
       "      <td></td>\n",
       "      <td></td>\n",
       "      <td></td>\n",
       "      <td></td>\n",
       "      <td></td>\n",
       "      <td></td>\n",
       "      <td></td>\n",
       "    </tr>\n",
       "    <tr>\n",
       "      <th>4</th>\n",
       "      <td>arraial do cabo</td>\n",
       "      <td></td>\n",
       "      <td></td>\n",
       "      <td></td>\n",
       "      <td></td>\n",
       "      <td></td>\n",
       "      <td></td>\n",
       "      <td></td>\n",
       "      <td></td>\n",
       "    </tr>\n",
       "  </tbody>\n",
       "</table>\n",
       "</div>"
      ],
      "text/plain": [
       "              city cloudiness lat long country date humidity max_temp  \\\n",
       "0        cape town                                                      \n",
       "1          mataura                                                      \n",
       "2      port-gentil                                                      \n",
       "3       nikolskoye                                                      \n",
       "4  arraial do cabo                                                      \n",
       "\n",
       "  wind_speed  \n",
       "0             \n",
       "1             \n",
       "2             \n",
       "3             \n",
       "4             "
      ]
     },
     "execution_count": 61,
     "metadata": {},
     "output_type": "execute_result"
    }
   ],
   "source": [
    "# set up additional columns to hold information\n",
    "\n",
    "city_info['cloudiness'] = \"\"\n",
    "city_info['lat'] = \"\"\n",
    "city_info['long'] = \"\"\n",
    "city_info['country'] = \"\"\n",
    "city_info['date'] = \"\"\n",
    "city_info['humidity'] = \"\"\n",
    "city_info['max_temp'] = \"\"\n",
    "city_info['wind_speed'] = \"\"\n",
    "\n",
    "#city_info = city_info(dtype={'country': str,'cloudiness':int})\n",
    "\n",
    "city_info.head()"
   ]
  },
  {
   "cell_type": "markdown",
   "metadata": {},
   "source": [
    "### Perform API Calls\n",
    "* Perform a weather check on each city using a series of successive API calls.\n",
    "* Include a print log of each city as it'sbeing processed (with the city number and city name).\n"
   ]
  },
  {
   "cell_type": "code",
   "execution_count": 62,
   "metadata": {
    "scrolled": true
   },
   "outputs": [
    {
     "name": "stdout",
     "output_type": "stream",
     "text": [
      "Beginning Data Retrieval\n",
      "-----------------------------\n",
      "Processing Record 0 of Set 1 | cape town.\n",
      "Processing Record 1 of Set 1 | mataura.\n",
      "Processing Record 2 of Set 1 | port-gentil.\n",
      "Processing Record 3 of Set 1 | nikolskoye.\n",
      "Processing Record 4 of Set 1 | arraial do cabo.\n",
      "Processing Record 5 of Set 1 | vaini.\n",
      "Processing Record 6 of Set 1 | shingu.\n",
      "Processing Record 7 of Set 1 | ushuaia.\n",
      "Processing Record 8 of Set 1 | hermanus.\n",
      "Processing Record 9 of Set 1 | pisco.\n",
      "Processing Record 10 of Set 1 | khatanga.\n",
      "Processing Record 11 of Set 1 | upata.\n",
      "Processing Record 12 of Set 1 | nishihara.\n",
      "Processing Record 13 of Set 1 | tomatlan.\n",
      "Processing Record 14 of Set 1 | maniitsoq.\n",
      "Processing Record 15 of Set 1 | sao joao da barra.\n",
      "Processing Record 16 of Set 1 | punta arenas.\n",
      "Processing Record 17 of Set 1 | ponta do sol.\n",
      "Processing Record 18 of Set 1 | sombrio.\n",
      "Processing Record 19 of Set 1 | san cristobal.\n",
      "Processing Record 20 of Set 1 | severnyy.\n",
      "Processing Record 21 of Set 1 | balikpapan.\n",
      "Processing Record 22 of Set 1 | nicoya.\n",
      "Processing Record 23 of Set 1 | paamiut.\n",
      "Processing Record 24 of Set 1 | kapaa.\n",
      "Processing Record 25 of Set 1 | ribeira grande.\n",
      "Processing Record 26 of Set 1 | faanui.\n",
      "Processing Record 27 of Set 1 | arzgir.\n",
      "Processing Record 28 of Set 1 | tiksi.\n",
      "Processing Record 29 of Set 1 | inta.\n",
      "Processing Record 30 of Set 1 | morant bay.\n",
      "Processing Record 31 of Set 1 | albany.\n",
      "Processing Record 32 of Set 1 | chokurdakh.\n",
      "Processing Record 33 of Set 1 | tiznit.\n",
      "Processing Record 34 of Set 1 | carnarvon.\n",
      "Processing Record 35 of Set 1 | tema.\n",
      "Processing Record 36 of Set 1 | butaritari.\n",
      "Processing Record 37 of Set 1 | hithadhoo.\n",
      "Processing Record 38 of Set 1 | hasaki.\n",
      "City not found. Skipping...\n",
      "Processing Record 40 of Set 2 | saint-philippe.\n",
      "Processing Record 41 of Set 2 | kirovskiy.\n",
      "Processing Record 42 of Set 2 | santa isabel do rio negro.\n",
      "Processing Record 43 of Set 2 | tommot.\n",
      "City not found. Skipping...\n",
      "Processing Record 45 of Set 3 | sorong.\n",
      "Processing Record 46 of Set 3 | muros.\n",
      "Processing Record 47 of Set 3 | vangaindrano.\n",
      "City not found. Skipping...\n",
      "Processing Record 49 of Set 4 | tasiilaq.\n",
      "Processing Record 50 of Set 4 | bluff.\n",
      "City not found. Skipping...\n",
      "Processing Record 52 of Set 5 | eldorado.\n",
      "Processing Record 53 of Set 5 | kristiinankaupunki.\n",
      "Processing Record 54 of Set 5 | kalamazoo.\n",
      "Processing Record 55 of Set 5 | hobyo.\n",
      "Processing Record 56 of Set 5 | mosquera.\n",
      "City not found. Skipping...\n",
      "Processing Record 58 of Set 6 | husavik.\n",
      "Processing Record 59 of Set 6 | alim.\n",
      "Processing Record 60 of Set 6 | bethel.\n",
      "Processing Record 61 of Set 6 | busselton.\n",
      "Processing Record 62 of Set 6 | new norfolk.\n",
      "Processing Record 63 of Set 6 | marsala.\n",
      "Processing Record 64 of Set 6 | tessalit.\n",
      "Processing Record 65 of Set 6 | castro.\n",
      "Processing Record 66 of Set 6 | narsaq.\n",
      "Processing Record 67 of Set 6 | tuktoyaktuk.\n",
      "Processing Record 68 of Set 6 | touros.\n",
      "Processing Record 69 of Set 6 | antalaha.\n",
      "Processing Record 70 of Set 6 | kontagora.\n",
      "Processing Record 71 of Set 6 | atambua.\n",
      "Processing Record 72 of Set 6 | georgetown.\n",
      "Processing Record 73 of Set 6 | barrow.\n",
      "Processing Record 74 of Set 6 | san carlos de bariloche.\n",
      "Processing Record 75 of Set 6 | leningradskiy.\n",
      "Processing Record 76 of Set 6 | lompoc.\n",
      "City not found. Skipping...\n",
      "Processing Record 78 of Set 7 | necochea.\n",
      "Processing Record 79 of Set 7 | rikitea.\n",
      "Processing Record 80 of Set 7 | provideniya.\n",
      "City not found. Skipping...\n",
      "City not found. Skipping...\n",
      "Processing Record 83 of Set 9 | yellowknife.\n",
      "Processing Record 84 of Set 9 | yasnyy.\n",
      "Processing Record 85 of Set 9 | neuquen.\n",
      "Processing Record 86 of Set 9 | puerto ayora.\n",
      "Processing Record 87 of Set 9 | hualmay.\n",
      "Processing Record 88 of Set 9 | sabang.\n",
      "Processing Record 89 of Set 9 | tumpat.\n",
      "Processing Record 90 of Set 9 | te anau.\n",
      "City not found. Skipping...\n",
      "Processing Record 92 of Set 10 | cabo san lucas.\n",
      "Processing Record 93 of Set 10 | lorengau.\n",
      "Processing Record 94 of Set 10 | lavrentiya.\n",
      "Processing Record 95 of Set 10 | paso de los toros.\n",
      "Processing Record 96 of Set 10 | vytegra.\n",
      "Processing Record 97 of Set 10 | mar del plata.\n",
      "Processing Record 98 of Set 10 | coquimbo.\n",
      "Processing Record 99 of Set 10 | zhangjiakou.\n",
      "Processing Record 100 of Set 10 | airai.\n",
      "Processing Record 101 of Set 10 | jamestown.\n",
      "Processing Record 102 of Set 10 | oktyabrskoye.\n",
      "Processing Record 103 of Set 10 | comodoro rivadavia.\n",
      "Processing Record 104 of Set 10 | oussouye.\n",
      "Processing Record 105 of Set 10 | venice.\n",
      "Processing Record 106 of Set 10 | laguna.\n",
      "City not found. Skipping...\n",
      "Processing Record 108 of Set 11 | nhulunbuy.\n",
      "Processing Record 109 of Set 11 | banatsko novo selo.\n",
      "Processing Record 110 of Set 11 | hobart.\n",
      "Processing Record 111 of Set 11 | barpeta.\n",
      "Processing Record 112 of Set 11 | west bay.\n",
      "Processing Record 113 of Set 11 | bilibino.\n",
      "Processing Record 114 of Set 11 | atuona.\n",
      "Processing Record 115 of Set 11 | marawi.\n",
      "Processing Record 116 of Set 11 | steinbach.\n",
      "Processing Record 117 of Set 11 | codrington.\n",
      "Processing Record 118 of Set 11 | arkhara.\n",
      "Processing Record 119 of Set 11 | bukoba.\n",
      "Processing Record 120 of Set 11 | jamame.\n",
      "Processing Record 121 of Set 11 | esperance.\n",
      "City not found. Skipping...\n",
      "Processing Record 123 of Set 12 | huarmey.\n",
      "Processing Record 124 of Set 12 | kruisfontein.\n",
      "Processing Record 125 of Set 12 | nanortalik.\n",
      "Processing Record 126 of Set 12 | deputatskiy.\n",
      "Processing Record 127 of Set 12 | cherskiy.\n",
      "Processing Record 128 of Set 12 | nome.\n",
      "Processing Record 129 of Set 12 | galesong.\n",
      "Processing Record 130 of Set 12 | tezu.\n",
      "Processing Record 131 of Set 12 | saint-pierre.\n",
      "Processing Record 132 of Set 12 | tiarei.\n",
      "City not found. Skipping...\n",
      "City not found. Skipping...\n",
      "Processing Record 135 of Set 14 | lebu.\n",
      "Processing Record 136 of Set 14 | ciro marina.\n",
      "Processing Record 137 of Set 14 | shimoda.\n",
      "Processing Record 138 of Set 14 | caravelas.\n",
      "Processing Record 139 of Set 14 | goure.\n",
      "Processing Record 140 of Set 14 | aksu.\n",
      "Processing Record 141 of Set 14 | dudinka.\n",
      "Processing Record 142 of Set 14 | ancud.\n",
      "City not found. Skipping...\n",
      "Processing Record 144 of Set 15 | copiapo.\n",
      "Processing Record 145 of Set 15 | vostok.\n",
      "Processing Record 146 of Set 15 | marsh harbour.\n",
      "Processing Record 147 of Set 15 | bubaque.\n",
      "Processing Record 148 of Set 15 | taicheng.\n",
      "Processing Record 149 of Set 15 | gunnaur.\n",
      "Processing Record 150 of Set 15 | nouadhibou.\n",
      "Processing Record 151 of Set 15 | grand gaube.\n",
      "Processing Record 152 of Set 15 | zaragoza.\n",
      "Processing Record 153 of Set 15 | pampa.\n",
      "Processing Record 154 of Set 15 | dikson.\n",
      "City not found. Skipping...\n",
      "Processing Record 156 of Set 16 | aklavik.\n",
      "Processing Record 157 of Set 16 | vila franca do campo.\n",
      "Processing Record 158 of Set 16 | viedma.\n",
      "Processing Record 159 of Set 16 | petropavlovsk-kamchatskiy.\n",
      "Processing Record 160 of Set 16 | maturin.\n",
      "Processing Record 161 of Set 16 | da nang.\n",
      "Processing Record 162 of Set 16 | ahipara.\n",
      "Processing Record 163 of Set 16 | wamba.\n",
      "Processing Record 164 of Set 16 | mahebourg.\n",
      "Processing Record 165 of Set 16 | lodwar.\n",
      "Processing Record 166 of Set 16 | hilo.\n",
      "Processing Record 167 of Set 16 | amboasary.\n",
      "Processing Record 168 of Set 16 | norman wells.\n",
      "City not found. Skipping...\n",
      "Processing Record 170 of Set 17 | srebrenica.\n",
      "Processing Record 171 of Set 17 | kondopoga.\n",
      "Processing Record 172 of Set 17 | bowen.\n",
      "Processing Record 173 of Set 17 | saint-georges.\n",
      "Processing Record 174 of Set 17 | la ronge.\n",
      "Processing Record 175 of Set 17 | belyy yar.\n",
      "Processing Record 176 of Set 17 | kirakira.\n",
      "Processing Record 177 of Set 17 | guiren.\n",
      "Processing Record 178 of Set 17 | ishigaki.\n",
      "Processing Record 179 of Set 17 | verkhoshizhemye.\n",
      "Processing Record 180 of Set 17 | englehart.\n",
      "Processing Record 181 of Set 17 | darhan.\n",
      "Processing Record 182 of Set 17 | belmonte.\n",
      "Processing Record 183 of Set 17 | meadow lake.\n",
      "Processing Record 184 of Set 17 | mount gambier.\n",
      "Processing Record 185 of Set 17 | hoi an.\n",
      "Processing Record 186 of Set 17 | ostrovnoy.\n",
      "Processing Record 187 of Set 17 | san andres.\n",
      "Processing Record 188 of Set 17 | upernavik.\n",
      "Processing Record 189 of Set 17 | cobija.\n",
      "City not found. Skipping...\n",
      "Processing Record 191 of Set 18 | portland.\n",
      "Processing Record 192 of Set 18 | moerai.\n",
      "Processing Record 193 of Set 18 | port alfred.\n"
     ]
    },
    {
     "name": "stdout",
     "output_type": "stream",
     "text": [
      "Processing Record 194 of Set 18 | bulalacao.\n",
      "Processing Record 195 of Set 18 | thompson.\n",
      "City not found. Skipping...\n",
      "Processing Record 197 of Set 19 | roswell.\n",
      "Processing Record 198 of Set 19 | boali.\n",
      "Processing Record 199 of Set 19 | east london.\n",
      "Processing Record 200 of Set 19 | price.\n",
      "Processing Record 201 of Set 19 | boa vista.\n",
      "Processing Record 202 of Set 19 | sabha.\n",
      "Processing Record 203 of Set 19 | avarua.\n",
      "Processing Record 204 of Set 19 | samarinda.\n",
      "Processing Record 205 of Set 19 | olafsvik.\n",
      "Processing Record 206 of Set 19 | huaihua.\n",
      "Processing Record 207 of Set 19 | sorland.\n",
      "Processing Record 208 of Set 19 | port elizabeth.\n",
      "Processing Record 209 of Set 19 | sola.\n",
      "Processing Record 210 of Set 19 | merauke.\n",
      "Processing Record 211 of Set 19 | ariogala.\n",
      "Processing Record 212 of Set 19 | port macquarie.\n",
      "Processing Record 213 of Set 19 | shelburne.\n",
      "Processing Record 214 of Set 19 | villazon.\n",
      "City not found. Skipping...\n",
      "Processing Record 216 of Set 20 | launceston.\n",
      "Processing Record 217 of Set 20 | anadyr.\n",
      "Processing Record 218 of Set 20 | fairbanks.\n",
      "Processing Record 219 of Set 20 | los llanos de aridane.\n",
      "Processing Record 220 of Set 20 | bredasdorp.\n",
      "Processing Record 221 of Set 20 | lasa.\n",
      "City not found. Skipping...\n",
      "Processing Record 223 of Set 21 | amapa.\n",
      "Processing Record 224 of Set 21 | buala.\n",
      "Processing Record 225 of Set 21 | rio grande.\n",
      "Processing Record 226 of Set 21 | tazovskiy.\n",
      "Processing Record 227 of Set 21 | yumen.\n",
      "City not found. Skipping...\n",
      "Processing Record 229 of Set 22 | concordia.\n",
      "City not found. Skipping...\n",
      "City not found. Skipping...\n",
      "Processing Record 232 of Set 24 | destin.\n",
      "Processing Record 233 of Set 24 | padang.\n",
      "Processing Record 234 of Set 24 | oranjemund.\n",
      "Processing Record 235 of Set 24 | acajutla.\n",
      "Processing Record 236 of Set 24 | kahului.\n",
      "City not found. Skipping...\n",
      "Processing Record 238 of Set 25 | palauig.\n",
      "Processing Record 239 of Set 25 | lawton.\n",
      "Processing Record 240 of Set 25 | dingle.\n",
      "Processing Record 241 of Set 25 | havelock.\n",
      "City not found. Skipping...\n",
      "Processing Record 243 of Set 26 | plover.\n",
      "Processing Record 244 of Set 26 | luderitz.\n",
      "Processing Record 245 of Set 26 | clyde river.\n",
      "Processing Record 246 of Set 26 | rawah.\n",
      "Processing Record 247 of Set 26 | ravar.\n",
      "Processing Record 248 of Set 26 | bemidji.\n",
      "Processing Record 249 of Set 26 | abha.\n",
      "Processing Record 250 of Set 26 | qaanaaq.\n",
      "Processing Record 251 of Set 26 | houma.\n",
      "Processing Record 252 of Set 26 | hami.\n",
      "Processing Record 253 of Set 26 | urengoy.\n",
      "City not found. Skipping...\n",
      "Processing Record 255 of Set 27 | santa helena.\n",
      "Processing Record 256 of Set 27 | mount isa.\n",
      "Processing Record 257 of Set 27 | kurchum.\n",
      "City not found. Skipping...\n",
      "Processing Record 259 of Set 28 | saint-joseph.\n",
      "Processing Record 260 of Set 28 | marsa matruh.\n",
      "Processing Record 261 of Set 28 | souillac.\n",
      "Processing Record 262 of Set 28 | ust-barguzin.\n",
      "Processing Record 263 of Set 28 | korla.\n",
      "Processing Record 264 of Set 28 | caledonia.\n",
      "Processing Record 265 of Set 28 | cockburn town.\n",
      "Processing Record 266 of Set 28 | alice springs.\n",
      "Processing Record 267 of Set 28 | turki.\n",
      "Processing Record 268 of Set 28 | ugoofaaru.\n",
      "Processing Record 269 of Set 28 | zomin.\n",
      "Processing Record 270 of Set 28 | constitucion.\n",
      "Processing Record 271 of Set 28 | sioux lookout.\n",
      "Processing Record 272 of Set 28 | kavieng.\n",
      "Processing Record 273 of Set 28 | znamenskoye.\n",
      "Processing Record 274 of Set 28 | kamina.\n",
      "City not found. Skipping...\n",
      "Processing Record 276 of Set 29 | tautira.\n",
      "Processing Record 277 of Set 29 | ormara.\n",
      "Processing Record 278 of Set 29 | spornoye.\n",
      "Processing Record 279 of Set 29 | daru.\n",
      "Processing Record 280 of Set 29 | pevek.\n",
      "Processing Record 281 of Set 29 | batagay.\n",
      "Processing Record 282 of Set 29 | srednekolymsk.\n",
      "Processing Record 283 of Set 29 | baculin.\n",
      "Processing Record 284 of Set 29 | wajir.\n",
      "Processing Record 285 of Set 29 | kalabo.\n",
      "City not found. Skipping...\n",
      "Processing Record 287 of Set 30 | kanigoro.\n",
      "Processing Record 288 of Set 30 | jasrana.\n",
      "Processing Record 289 of Set 30 | sao filipe.\n",
      "Processing Record 290 of Set 30 | kamenka.\n",
      "Processing Record 291 of Set 30 | clarence town.\n",
      "City not found. Skipping...\n",
      "Processing Record 293 of Set 31 | itoman.\n",
      "Processing Record 294 of Set 31 | saint anthony.\n",
      "Processing Record 295 of Set 31 | chervonohryhorivka.\n",
      "City not found. Skipping...\n",
      "Processing Record 297 of Set 32 | aquiraz.\n",
      "Processing Record 298 of Set 32 | haines junction.\n",
      "Processing Record 299 of Set 32 | victoria.\n",
      "Processing Record 300 of Set 32 | vardo.\n",
      "Processing Record 301 of Set 32 | malakal.\n",
      "Processing Record 302 of Set 32 | mount pleasant.\n",
      "Processing Record 303 of Set 32 | inhambane.\n",
      "City not found. Skipping...\n",
      "Processing Record 305 of Set 33 | berdigestyakh.\n",
      "Processing Record 306 of Set 33 | novo aripuana.\n",
      "Processing Record 307 of Set 33 | teguldet.\n",
      "Processing Record 308 of Set 33 | orbetello.\n",
      "City not found. Skipping...\n",
      "Processing Record 310 of Set 34 | helena.\n",
      "Processing Record 311 of Set 34 | sangmelima.\n",
      "Processing Record 312 of Set 34 | namatanai.\n",
      "Processing Record 313 of Set 34 | fortuna foothills.\n",
      "Processing Record 314 of Set 34 | karasjok.\n",
      "Processing Record 315 of Set 34 | kupino.\n",
      "Processing Record 316 of Set 34 | carutapera.\n",
      "City not found. Skipping...\n",
      "Processing Record 318 of Set 35 | anori.\n",
      "Processing Record 319 of Set 35 | kodiak.\n",
      "Processing Record 320 of Set 35 | gizo.\n",
      "Processing Record 321 of Set 35 | velikodvorskiy.\n",
      "Processing Record 322 of Set 35 | faya.\n",
      "Processing Record 323 of Set 35 | ayagoz.\n",
      "Processing Record 324 of Set 35 | santa isabel.\n",
      "Processing Record 325 of Set 35 | gagino.\n",
      "City not found. Skipping...\n",
      "Processing Record 327 of Set 36 | svetlyy.\n",
      "City not found. Skipping...\n",
      "Processing Record 329 of Set 37 | sembe.\n",
      "Processing Record 330 of Set 37 | fare.\n",
      "Processing Record 331 of Set 37 | saint george.\n",
      "Processing Record 332 of Set 37 | ous.\n",
      "Processing Record 333 of Set 37 | saskylakh.\n",
      "Processing Record 334 of Set 37 | camacha.\n",
      "Processing Record 335 of Set 37 | las vegas.\n",
      "Processing Record 336 of Set 37 | broome.\n",
      "City not found. Skipping...\n",
      "Processing Record 338 of Set 38 | mayumba.\n",
      "Processing Record 339 of Set 38 | valea nucarilor.\n",
      "Processing Record 340 of Set 38 | ocampo.\n",
      "Processing Record 341 of Set 38 | saint-leu.\n",
      "Processing Record 342 of Set 38 | vendas novas.\n",
      "Processing Record 343 of Set 38 | henties bay.\n",
      "Processing Record 344 of Set 38 | gold coast.\n",
      "Processing Record 345 of Set 38 | ambon.\n",
      "Processing Record 346 of Set 38 | longyearbyen.\n",
      "Processing Record 347 of Set 38 | cabangahan.\n",
      "Processing Record 348 of Set 38 | liverpool.\n",
      "City not found. Skipping...\n",
      "Processing Record 350 of Set 39 | axim.\n",
      "City not found. Skipping...\n",
      "Processing Record 352 of Set 40 | grindavik.\n",
      "Processing Record 353 of Set 40 | soavinandriana.\n",
      "Processing Record 354 of Set 40 | kilindoni.\n",
      "Processing Record 355 of Set 40 | bellevue.\n",
      "Processing Record 356 of Set 40 | eydhafushi.\n",
      "Processing Record 357 of Set 40 | port shepstone.\n",
      "Processing Record 358 of Set 40 | porto de moz.\n",
      "Processing Record 359 of Set 40 | semnan.\n",
      "Processing Record 360 of Set 40 | novikovo.\n",
      "Processing Record 361 of Set 40 | isiro.\n",
      "Processing Record 362 of Set 40 | dalnegorsk.\n",
      "Processing Record 363 of Set 40 | berlevag.\n",
      "Processing Record 364 of Set 40 | camacupa.\n",
      "Processing Record 365 of Set 40 | topolobampo.\n",
      "Processing Record 366 of Set 40 | vermilion.\n",
      "Processing Record 367 of Set 40 | jhang.\n",
      "Processing Record 368 of Set 40 | coihaique.\n",
      "Processing Record 369 of Set 40 | san patricio.\n",
      "Processing Record 370 of Set 40 | kholtoson.\n",
      "Processing Record 371 of Set 40 | nemuro.\n",
      "Processing Record 372 of Set 40 | great yarmouth.\n",
      "Processing Record 373 of Set 40 | kirkenaer.\n",
      "Processing Record 374 of Set 40 | pacific grove.\n",
      "Processing Record 375 of Set 40 | lagoa.\n",
      "Processing Record 376 of Set 40 | cacapava do sul.\n",
      "Processing Record 377 of Set 40 | grants pass.\n",
      "Processing Record 378 of Set 40 | mandera.\n",
      "Processing Record 379 of Set 40 | iranshahr.\n",
      "Processing Record 380 of Set 40 | kabansk.\n",
      "Processing Record 381 of Set 40 | zhanaozen.\n",
      "Processing Record 382 of Set 40 | nowa sol.\n",
      "Processing Record 383 of Set 40 | beringovskiy.\n",
      "Processing Record 384 of Set 40 | terrasini.\n",
      "Processing Record 385 of Set 40 | catuday.\n",
      "Processing Record 386 of Set 40 | ampanihy.\n",
      "Processing Record 387 of Set 40 | sao miguel do araguaia.\n"
     ]
    },
    {
     "name": "stdout",
     "output_type": "stream",
     "text": [
      "Processing Record 388 of Set 40 | lengshuijiang.\n",
      "Processing Record 389 of Set 40 | naze.\n",
      "Processing Record 390 of Set 40 | luwuk.\n",
      "Processing Record 391 of Set 40 | guerrero negro.\n",
      "Processing Record 392 of Set 40 | kaniama.\n",
      "Processing Record 393 of Set 40 | general pico.\n",
      "Processing Record 394 of Set 40 | rodrigues alves.\n",
      "Processing Record 395 of Set 40 | san rafael.\n",
      "Processing Record 396 of Set 40 | cam ranh.\n",
      "Processing Record 397 of Set 40 | kasongo.\n",
      "Processing Record 398 of Set 40 | mae hong son.\n",
      "Processing Record 399 of Set 40 | samarai.\n",
      "Processing Record 400 of Set 40 | adrar.\n",
      "Processing Record 401 of Set 40 | mandal.\n",
      "Processing Record 402 of Set 40 | san jeronimo.\n",
      "Processing Record 403 of Set 40 | nantucket.\n",
      "Processing Record 404 of Set 40 | havre-saint-pierre.\n",
      "City not found. Skipping...\n",
      "Processing Record 406 of Set 41 | talcahuano.\n",
      "City not found. Skipping...\n",
      "Processing Record 408 of Set 42 | obo.\n",
      "Processing Record 409 of Set 42 | cukai.\n",
      "Processing Record 410 of Set 42 | cervo.\n",
      "Processing Record 411 of Set 42 | mitu.\n",
      "Processing Record 412 of Set 42 | robertsport.\n",
      "Processing Record 413 of Set 42 | evensk.\n",
      "Processing Record 414 of Set 42 | talakan.\n",
      "Processing Record 415 of Set 42 | cidreira.\n",
      "Processing Record 416 of Set 42 | ilulissat.\n",
      "Processing Record 417 of Set 42 | orotukan.\n",
      "Processing Record 418 of Set 42 | ventspils.\n",
      "Processing Record 419 of Set 42 | vila velha.\n",
      "Processing Record 420 of Set 42 | contamana.\n",
      "City not found. Skipping...\n",
      "Processing Record 422 of Set 43 | sanary-sur-mer.\n",
      "Processing Record 423 of Set 43 | oriximina.\n",
      "Processing Record 424 of Set 43 | barcelos.\n",
      "Processing Record 425 of Set 43 | staraya stanitsa.\n",
      "Processing Record 426 of Set 43 | mareeba.\n",
      "Processing Record 427 of Set 43 | tuatapere.\n",
      "Processing Record 428 of Set 43 | perth.\n",
      "Processing Record 429 of Set 43 | kavaratti.\n",
      "Processing Record 430 of Set 43 | kudahuvadhoo.\n",
      "Processing Record 431 of Set 43 | serenje.\n",
      "Processing Record 432 of Set 43 | chuy.\n",
      "City not found. Skipping...\n",
      "Processing Record 434 of Set 44 | korsakov.\n",
      "Processing Record 435 of Set 44 | iralaya.\n",
      "Processing Record 436 of Set 44 | puerto escondido.\n",
      "Processing Record 437 of Set 44 | turukhansk.\n",
      "Processing Record 438 of Set 44 | kijang.\n",
      "Processing Record 439 of Set 44 | lata.\n",
      "Processing Record 440 of Set 44 | villa carlos paz.\n",
      "Processing Record 441 of Set 44 | oda.\n",
      "Processing Record 442 of Set 44 | karangasem.\n",
      "Processing Record 443 of Set 44 | yaan.\n",
      "Processing Record 444 of Set 44 | cairo.\n",
      "Processing Record 445 of Set 44 | antigonish.\n",
      "Processing Record 446 of Set 44 | lac du bonnet.\n",
      "Processing Record 447 of Set 44 | ambovombe.\n",
      "Processing Record 448 of Set 44 | ibra.\n",
      "Processing Record 449 of Set 44 | kautokeino.\n",
      "Processing Record 450 of Set 44 | menongue.\n",
      "Processing Record 451 of Set 44 | palma di montechiaro.\n",
      "Processing Record 452 of Set 44 | tsimlyansk.\n",
      "Processing Record 453 of Set 44 | severo-kurilsk.\n",
      "Processing Record 454 of Set 44 | santa cruz cabralia.\n",
      "Processing Record 455 of Set 44 | manado.\n",
      "City not found. Skipping...\n",
      "Processing Record 457 of Set 45 | tsabong.\n",
      "Processing Record 458 of Set 45 | antropovo.\n",
      "Processing Record 459 of Set 45 | bharatpur.\n",
      "Processing Record 460 of Set 45 | ponta delgada.\n",
      "Processing Record 461 of Set 45 | irbeyskoye.\n",
      "Processing Record 462 of Set 45 | isangel.\n",
      "Processing Record 463 of Set 45 | the pas.\n",
      "Processing Record 464 of Set 45 | ternate.\n",
      "Processing Record 465 of Set 45 | dergachi.\n",
      "Processing Record 466 of Set 45 | la paz.\n",
      "Processing Record 467 of Set 45 | krasnoselkup.\n",
      "Processing Record 468 of Set 45 | margate.\n",
      "Processing Record 469 of Set 45 | mamlyutka.\n",
      "Processing Record 470 of Set 45 | maragogi.\n",
      "Processing Record 471 of Set 45 | bandarbeyla.\n",
      "Processing Record 472 of Set 45 | rio gallegos.\n",
      "Processing Record 473 of Set 45 | vila.\n",
      "Processing Record 474 of Set 45 | kankan.\n",
      "Processing Record 475 of Set 45 | salalah.\n",
      "City not found. Skipping...\n",
      "Processing Record 477 of Set 46 | qunduz.\n",
      "Processing Record 478 of Set 46 | cayenne.\n",
      "Processing Record 479 of Set 46 | ulaangom.\n",
      "Processing Record 480 of Set 46 | mestia.\n",
      "City not found. Skipping...\n",
      "Processing Record 482 of Set 47 | araouane.\n",
      "Processing Record 483 of Set 47 | poso.\n",
      "Processing Record 484 of Set 47 | praia da vitoria.\n",
      "Processing Record 485 of Set 47 | fortuna.\n",
      "Processing Record 486 of Set 47 | ciudad del maiz.\n",
      "Processing Record 487 of Set 47 | hambantota.\n",
      "Processing Record 488 of Set 47 | maceio.\n",
      "Processing Record 489 of Set 47 | semikarakorsk.\n",
      "Processing Record 490 of Set 47 | beloha.\n",
      "City not found. Skipping...\n",
      "Processing Record 492 of Set 48 | torbay.\n",
      "Processing Record 493 of Set 48 | strezhevoy.\n",
      "Processing Record 494 of Set 48 | penzance.\n",
      "Processing Record 495 of Set 48 | brownsville.\n",
      "Processing Record 496 of Set 48 | alexandria.\n",
      "Processing Record 497 of Set 48 | katsuura.\n",
      "Processing Record 498 of Set 48 | pangkalanbuun.\n",
      "Processing Record 499 of Set 48 | bela.\n",
      "Processing Record 500 of Set 48 | byron bay.\n",
      "Processing Record 501 of Set 48 | russell.\n",
      "Processing Record 502 of Set 48 | meulaboh.\n",
      "Processing Record 503 of Set 48 | rio verde de mato grosso.\n",
      "Processing Record 504 of Set 48 | iqaluit.\n",
      "Processing Record 505 of Set 48 | eyl.\n",
      "Processing Record 506 of Set 48 | bureya.\n",
      "Processing Record 507 of Set 48 | dongsheng.\n",
      "Processing Record 508 of Set 48 | orlik.\n",
      "Processing Record 509 of Set 48 | hokitika.\n",
      "Processing Record 510 of Set 48 | san pedro.\n",
      "Processing Record 511 of Set 48 | abu dhabi.\n",
      "Processing Record 512 of Set 48 | pochutla.\n",
      "Processing Record 513 of Set 48 | babu.\n",
      "Processing Record 514 of Set 48 | nanchang.\n",
      "Processing Record 515 of Set 48 | hofn.\n",
      "Processing Record 516 of Set 48 | kabinda.\n",
      "Processing Record 517 of Set 48 | newport.\n",
      "Processing Record 518 of Set 48 | willowmore.\n",
      "Processing Record 519 of Set 48 | elesbao veloso.\n",
      "City not found. Skipping...\n",
      "Processing Record 521 of Set 49 | biak.\n",
      "Processing Record 522 of Set 49 | deming.\n",
      "Processing Record 523 of Set 49 | vertientes.\n",
      "Processing Record 524 of Set 49 | noumea.\n",
      "City not found. Skipping...\n",
      "Processing Record 526 of Set 50 | bonfim.\n",
      "City not found. Skipping...\n",
      "Processing Record 528 of Set 51 | nampula.\n",
      "Processing Record 529 of Set 51 | mirabad.\n",
      "Processing Record 530 of Set 51 | mogadishu.\n",
      "Processing Record 531 of Set 51 | independencia.\n",
      "Processing Record 532 of Set 51 | marystown.\n",
      "Processing Record 533 of Set 51 | king city.\n",
      "City not found. Skipping...\n",
      "Processing Record 535 of Set 52 | tibati.\n",
      "City not found. Skipping...\n",
      "Processing Record 537 of Set 53 | bengkulu.\n",
      "Processing Record 538 of Set 53 | lagos.\n",
      "Processing Record 539 of Set 53 | sosua.\n",
      "Processing Record 540 of Set 53 | rumoi.\n",
      "Processing Record 541 of Set 53 | loreto.\n",
      "Processing Record 542 of Set 53 | luganville.\n",
      "Processing Record 543 of Set 53 | sakakah.\n",
      "Processing Record 544 of Set 53 | mokhsogollokh.\n",
      "Processing Record 545 of Set 53 | guasdualito.\n",
      "Processing Record 546 of Set 53 | santa marta.\n",
      "Processing Record 547 of Set 53 | hay river.\n",
      "Processing Record 548 of Set 53 | santarem.\n",
      "Processing Record 549 of Set 53 | crib point.\n",
      "Processing Record 550 of Set 53 | tynda.\n",
      "Processing Record 551 of Set 53 | nizhniy baskunchak.\n",
      "Processing Record 552 of Set 53 | ayan.\n",
      "Processing Record 553 of Set 53 | champaign.\n",
      "Processing Record 554 of Set 53 | elko.\n",
      "Processing Record 555 of Set 53 | nizhniy kuranakh.\n",
      "Processing Record 556 of Set 53 | sao gabriel da cachoeira.\n",
      "Processing Record 557 of Set 53 | isabela.\n",
      "Processing Record 558 of Set 53 | marquette.\n",
      "Processing Record 559 of Set 53 | aksarka.\n",
      "Processing Record 560 of Set 53 | kapit.\n",
      "Processing Record 561 of Set 53 | ust-nera.\n",
      "Processing Record 562 of Set 53 | shepetivka.\n",
      "Processing Record 563 of Set 53 | saint-augustin.\n",
      "Processing Record 564 of Set 53 | krivosheino.\n",
      "Processing Record 565 of Set 53 | broken hill.\n",
      "Processing Record 566 of Set 53 | dakar.\n",
      "Processing Record 567 of Set 53 | dogondoutchi.\n",
      "City not found. Skipping...\n",
      "Processing Record 569 of Set 54 | talnakh.\n",
      "Processing Record 570 of Set 54 | rawson.\n",
      "Processing Record 571 of Set 54 | port keats.\n",
      "Processing Record 572 of Set 54 | natal.\n",
      "Processing Record 573 of Set 54 | octeville.\n",
      "Processing Record 574 of Set 54 | lanxi.\n",
      "Processing Record 575 of Set 54 | pidvynohradiv.\n",
      "Processing Record 576 of Set 54 | flinders.\n"
     ]
    },
    {
     "name": "stdout",
     "output_type": "stream",
     "text": [
      "Processing Record 577 of Set 54 | senador jose porfirio.\n",
      "Processing Record 578 of Set 54 | athabasca.\n",
      "Processing Record 579 of Set 54 | ilhabela.\n",
      "Processing Record 580 of Set 54 | salinopolis.\n",
      "Processing Record 581 of Set 54 | karmaskaly.\n",
      "Processing Record 582 of Set 54 | kaitangata.\n",
      "Processing Record 583 of Set 54 | san quintin.\n",
      "Processing Record 584 of Set 54 | asau.\n",
      "Processing Record 585 of Set 54 | bintulu.\n",
      "Processing Record 586 of Set 54 | pontianak.\n",
      "Processing Record 587 of Set 54 | bullhead city.\n",
      "Processing Record 588 of Set 54 | zhicheng.\n",
      "Processing Record 589 of Set 54 | pak thong chai.\n",
      "Processing Record 590 of Set 54 | flin flon.\n",
      "Processing Record 591 of Set 54 | sisimiut.\n",
      "Processing Record 592 of Set 54 | sitka.\n",
      "Processing Record 593 of Set 54 | magaria.\n",
      "Processing Record 594 of Set 54 | itaituba.\n",
      "Processing Record 595 of Set 54 | newton.\n",
      "Processing Record 596 of Set 54 | sao felipe.\n",
      "Processing Record 597 of Set 54 | ghanzi.\n",
      "Processing Record 598 of Set 54 | balabac.\n",
      "Processing Record 599 of Set 54 | havoysund.\n",
      "Processing Record 600 of Set 54 | davila.\n",
      "Processing Record 601 of Set 54 | matay.\n",
      "Processing Record 602 of Set 54 | quang ngai.\n",
      "Processing Record 603 of Set 54 | half moon bay.\n",
      "Processing Record 604 of Set 54 | qaqortoq.\n",
      "Processing Record 605 of Set 54 | tashigang.\n",
      "Processing Record 606 of Set 54 | novonikolayevskiy.\n",
      "Processing Record 607 of Set 54 | pitimbu.\n",
      "City not found. Skipping...\n",
      "Processing Record 609 of Set 55 | zalantun.\n",
      "Processing Record 610 of Set 55 | kendari.\n",
      "Processing Record 611 of Set 55 | eureka.\n",
      "Processing Record 612 of Set 55 | najran.\n",
      "Processing Record 613 of Set 55 | fort nelson.\n",
      "Processing Record 614 of Set 55 | bambous virieux.\n",
      "Processing Record 615 of Set 55 | khani.\n",
      "Processing Record 616 of Set 55 | jining.\n",
      "Processing Record 617 of Set 55 | hvide sande.\n",
      "Processing Record 618 of Set 55 | sibolga.\n",
      "Processing Record 619 of Set 55 | soe.\n",
      "Processing Record 620 of Set 55 | midland.\n",
      "Processing Record 621 of Set 55 | ovre ardal.\n",
      "Processing Record 622 of Set 55 | poum.\n",
      "Processing Record 623 of Set 55 | kirksville.\n",
      "Processing Record 624 of Set 55 | plettenberg bay.\n",
      "Processing Record 625 of Set 55 | pyapon.\n",
      "Processing Record 626 of Set 55 | alofi.\n",
      "Processing Record 627 of Set 55 | yushan.\n",
      "Processing Record 628 of Set 55 | puerto colombia.\n",
      "Processing Record 629 of Set 55 | pecos.\n",
      "Processing Record 630 of Set 55 | puerto leguizamo.\n",
      "Processing Record 631 of Set 55 | mikkeli.\n",
      "Processing Record 632 of Set 55 | teeli.\n",
      "Processing Record 633 of Set 55 | champerico.\n",
      "Processing Record 634 of Set 55 | rosarito.\n",
      "Processing Record 635 of Set 55 | bend.\n"
     ]
    }
   ],
   "source": [
    "print(\"Beginning Data Retrieval\")\n",
    "print(\"-----------------------------\")\n",
    "set=1\n",
    "# Loop through the list of cities and perform a request for data on each\n",
    "for index, row in city_info.iterrows():\n",
    "    \n",
    "    city_name = row['city']\n",
    "    response1 = requests.get(query_url + city_name).json()\n",
    "    #print(response1)\n",
    "    try:\n",
    "        #print(response1[\"coord\"][\"lat\"])\n",
    "        #print(index)\n",
    "\n",
    "        city_info.loc[index, \"lat\"] = response1[\"coord\"][\"lat\"]\n",
    "        city_info.loc[index, \"long\"] = response1[\"coord\"][\"lon\"]\n",
    "        city_info.loc[index, \"country\"] = response1[\"sys\"][\"country\"]\n",
    "        city_info.loc[index, \"date\"] = response1[\"dt\"]\n",
    "        city_info.loc[index, \"humidity\"] = response1[\"main\"][\"humidity\"]\n",
    "        city_info.loc[index, \"max_temp\"] = response1[\"main\"][\"temp_max\"]\n",
    "        city_info.loc[index, \"wind_speed\"] = response1[\"wind\"][\"speed\"]\n",
    "        city_info.loc[index, \"cloudiness\"] = response1[\"clouds\"][\"all\"]\n",
    "        print(f\"Processing Record {index} of Set {set} | {city_name}.\")\n",
    "        \n",
    "    except (KeyError):\n",
    "        print(\"City not found. Skipping...\")\n",
    "        set+= 1\n"
   ]
  },
  {
   "cell_type": "code",
   "execution_count": 80,
   "metadata": {},
   "outputs": [],
   "source": [
    "#city_info.dropna()\n",
    "#city_info.dropna(subset = [\"cloudiness\"], inplace=True)\n",
    "\n",
    "city_info1 = city_info.replace('', np.nan)\n",
    "city_info2 = city_info1.dropna()\n",
    "\n",
    "#city_info3= city_info2.dropna(inplace=True)\n",
    "\n",
    "\n",
    "#city_info.fillna(0)\n",
    "\n",
    "#city_info[city_info[\"cloudiness\"] != \" \"]\n",
    "\n",
    "#df[df.name != 'Tina']\n",
    "\n",
    "#df.drop(rows=['cloudiness','Height'])"
   ]
  },
  {
   "cell_type": "code",
   "execution_count": 81,
   "metadata": {},
   "outputs": [
    {
     "data": {
      "text/html": [
       "<div>\n",
       "<style scoped>\n",
       "    .dataframe tbody tr th:only-of-type {\n",
       "        vertical-align: middle;\n",
       "    }\n",
       "\n",
       "    .dataframe tbody tr th {\n",
       "        vertical-align: top;\n",
       "    }\n",
       "\n",
       "    .dataframe thead th {\n",
       "        text-align: right;\n",
       "    }\n",
       "</style>\n",
       "<table border=\"1\" class=\"dataframe\">\n",
       "  <thead>\n",
       "    <tr style=\"text-align: right;\">\n",
       "      <th></th>\n",
       "      <th>city</th>\n",
       "      <th>cloudiness</th>\n",
       "      <th>lat</th>\n",
       "      <th>long</th>\n",
       "      <th>country</th>\n",
       "      <th>date</th>\n",
       "      <th>humidity</th>\n",
       "      <th>max_temp</th>\n",
       "      <th>wind_speed</th>\n",
       "    </tr>\n",
       "  </thead>\n",
       "  <tbody>\n",
       "    <tr>\n",
       "      <th>0</th>\n",
       "      <td>cape town</td>\n",
       "      <td>1.0</td>\n",
       "      <td>-33.93</td>\n",
       "      <td>18.42</td>\n",
       "      <td>ZA</td>\n",
       "      <td>1.586742e+09</td>\n",
       "      <td>87.0</td>\n",
       "      <td>55.00</td>\n",
       "      <td>3.36</td>\n",
       "    </tr>\n",
       "    <tr>\n",
       "      <th>1</th>\n",
       "      <td>mataura</td>\n",
       "      <td>99.0</td>\n",
       "      <td>-46.19</td>\n",
       "      <td>168.86</td>\n",
       "      <td>NZ</td>\n",
       "      <td>1.586742e+09</td>\n",
       "      <td>89.0</td>\n",
       "      <td>44.01</td>\n",
       "      <td>11.01</td>\n",
       "    </tr>\n",
       "    <tr>\n",
       "      <th>2</th>\n",
       "      <td>port-gentil</td>\n",
       "      <td>75.0</td>\n",
       "      <td>-0.72</td>\n",
       "      <td>8.78</td>\n",
       "      <td>GA</td>\n",
       "      <td>1.586743e+09</td>\n",
       "      <td>73.0</td>\n",
       "      <td>79.11</td>\n",
       "      <td>2.35</td>\n",
       "    </tr>\n",
       "    <tr>\n",
       "      <th>3</th>\n",
       "      <td>nikolskoye</td>\n",
       "      <td>75.0</td>\n",
       "      <td>59.70</td>\n",
       "      <td>30.79</td>\n",
       "      <td>RU</td>\n",
       "      <td>1.586742e+09</td>\n",
       "      <td>75.0</td>\n",
       "      <td>42.80</td>\n",
       "      <td>8.95</td>\n",
       "    </tr>\n",
       "    <tr>\n",
       "      <th>4</th>\n",
       "      <td>arraial do cabo</td>\n",
       "      <td>98.0</td>\n",
       "      <td>-22.97</td>\n",
       "      <td>-42.03</td>\n",
       "      <td>BR</td>\n",
       "      <td>1.586743e+09</td>\n",
       "      <td>65.0</td>\n",
       "      <td>73.49</td>\n",
       "      <td>6.24</td>\n",
       "    </tr>\n",
       "  </tbody>\n",
       "</table>\n",
       "</div>"
      ],
      "text/plain": [
       "              city  cloudiness    lat    long country          date  humidity  \\\n",
       "0        cape town         1.0 -33.93   18.42      ZA  1.586742e+09      87.0   \n",
       "1          mataura        99.0 -46.19  168.86      NZ  1.586742e+09      89.0   \n",
       "2      port-gentil        75.0  -0.72    8.78      GA  1.586743e+09      73.0   \n",
       "3       nikolskoye        75.0  59.70   30.79      RU  1.586742e+09      75.0   \n",
       "4  arraial do cabo        98.0 -22.97  -42.03      BR  1.586743e+09      65.0   \n",
       "\n",
       "   max_temp  wind_speed  \n",
       "0     55.00        3.36  \n",
       "1     44.01       11.01  \n",
       "2     79.11        2.35  \n",
       "3     42.80        8.95  \n",
       "4     73.49        6.24  "
      ]
     },
     "execution_count": 81,
     "metadata": {},
     "output_type": "execute_result"
    }
   ],
   "source": [
    "city_info2.head()"
   ]
  },
  {
   "cell_type": "code",
   "execution_count": 75,
   "metadata": {},
   "outputs": [],
   "source": [
    "city_info2.to_csv(output_data_file, encoding=\"utf-8\", index=False)\n",
    "\n"
   ]
  },
  {
   "cell_type": "markdown",
   "metadata": {},
   "source": [
    "### Convert Raw Data to DataFrame\n",
    "* Export the city data into a .csv.\n",
    "* Display the DataFrame"
   ]
  },
  {
   "cell_type": "code",
   "execution_count": 82,
   "metadata": {},
   "outputs": [
    {
     "data": {
      "text/plain": [
       "city          582\n",
       "cloudiness    582\n",
       "lat           582\n",
       "long          582\n",
       "country       582\n",
       "date          582\n",
       "humidity      582\n",
       "max_temp      582\n",
       "wind_speed    582\n",
       "dtype: int64"
      ]
     },
     "execution_count": 82,
     "metadata": {},
     "output_type": "execute_result"
    }
   ],
   "source": [
    "city_info2.count()"
   ]
  },
  {
   "cell_type": "code",
   "execution_count": 83,
   "metadata": {},
   "outputs": [
    {
     "data": {
      "text/plain": [
       "city           object\n",
       "cloudiness    float64\n",
       "lat           float64\n",
       "long          float64\n",
       "country        object\n",
       "date          float64\n",
       "humidity      float64\n",
       "max_temp      float64\n",
       "wind_speed    float64\n",
       "dtype: object"
      ]
     },
     "execution_count": 83,
     "metadata": {},
     "output_type": "execute_result"
    }
   ],
   "source": [
    "city_info2.dtypes"
   ]
  },
  {
   "cell_type": "code",
   "execution_count": 5,
   "metadata": {},
   "outputs": [
    {
     "data": {
      "text/html": [
       "<div>\n",
       "<style scoped>\n",
       "    .dataframe tbody tr th:only-of-type {\n",
       "        vertical-align: middle;\n",
       "    }\n",
       "\n",
       "    .dataframe tbody tr th {\n",
       "        vertical-align: top;\n",
       "    }\n",
       "\n",
       "    .dataframe thead th {\n",
       "        text-align: right;\n",
       "    }\n",
       "</style>\n",
       "<table border=\"1\" class=\"dataframe\">\n",
       "  <thead>\n",
       "    <tr style=\"text-align: right;\">\n",
       "      <th></th>\n",
       "      <th>City</th>\n",
       "      <th>Cloudiness</th>\n",
       "      <th>Country</th>\n",
       "      <th>Date</th>\n",
       "      <th>Humidity</th>\n",
       "      <th>Lat</th>\n",
       "      <th>Lng</th>\n",
       "      <th>Max Temp</th>\n",
       "      <th>Wind Speed</th>\n",
       "    </tr>\n",
       "  </thead>\n",
       "  <tbody>\n",
       "    <tr>\n",
       "      <th>0</th>\n",
       "      <td>severo-kurilsk</td>\n",
       "      <td>92</td>\n",
       "      <td>RU</td>\n",
       "      <td>1534988024</td>\n",
       "      <td>93</td>\n",
       "      <td>50.68</td>\n",
       "      <td>156.12</td>\n",
       "      <td>54.27</td>\n",
       "      <td>2.73</td>\n",
       "    </tr>\n",
       "    <tr>\n",
       "      <th>1</th>\n",
       "      <td>darhan</td>\n",
       "      <td>8</td>\n",
       "      <td>MN</td>\n",
       "      <td>1534988024</td>\n",
       "      <td>71</td>\n",
       "      <td>49.49</td>\n",
       "      <td>105.92</td>\n",
       "      <td>72.81</td>\n",
       "      <td>8.55</td>\n",
       "    </tr>\n",
       "    <tr>\n",
       "      <th>2</th>\n",
       "      <td>tarakan</td>\n",
       "      <td>48</td>\n",
       "      <td>ID</td>\n",
       "      <td>1534988024</td>\n",
       "      <td>100</td>\n",
       "      <td>3.30</td>\n",
       "      <td>117.63</td>\n",
       "      <td>80.10</td>\n",
       "      <td>4.41</td>\n",
       "    </tr>\n",
       "    <tr>\n",
       "      <th>3</th>\n",
       "      <td>komsomolskiy</td>\n",
       "      <td>48</td>\n",
       "      <td>RU</td>\n",
       "      <td>1534987754</td>\n",
       "      <td>72</td>\n",
       "      <td>67.55</td>\n",
       "      <td>63.78</td>\n",
       "      <td>54.46</td>\n",
       "      <td>15.46</td>\n",
       "    </tr>\n",
       "    <tr>\n",
       "      <th>4</th>\n",
       "      <td>souillac</td>\n",
       "      <td>0</td>\n",
       "      <td>FR</td>\n",
       "      <td>1534986000</td>\n",
       "      <td>73</td>\n",
       "      <td>45.60</td>\n",
       "      <td>-0.60</td>\n",
       "      <td>71.60</td>\n",
       "      <td>3.36</td>\n",
       "    </tr>\n",
       "  </tbody>\n",
       "</table>\n",
       "</div>"
      ],
      "text/plain": [
       "             City  Cloudiness Country        Date  Humidity    Lat     Lng  \\\n",
       "0  severo-kurilsk          92      RU  1534988024        93  50.68  156.12   \n",
       "1          darhan           8      MN  1534988024        71  49.49  105.92   \n",
       "2         tarakan          48      ID  1534988024       100   3.30  117.63   \n",
       "3    komsomolskiy          48      RU  1534987754        72  67.55   63.78   \n",
       "4        souillac           0      FR  1534986000        73  45.60   -0.60   \n",
       "\n",
       "   Max Temp  Wind Speed  \n",
       "0     54.27        2.73  \n",
       "1     72.81        8.55  \n",
       "2     80.10        4.41  \n",
       "3     54.46       15.46  \n",
       "4     71.60        3.36  "
      ]
     },
     "execution_count": 5,
     "metadata": {},
     "output_type": "execute_result"
    }
   ],
   "source": []
  },
  {
   "cell_type": "code",
   "execution_count": 53,
   "metadata": {},
   "outputs": [],
   "source": [
    "\n"
   ]
  },
  {
   "cell_type": "markdown",
   "metadata": {},
   "source": [
    "### Plotting the Data\n",
    "* Use proper labeling of the plots using plot titles (including date of analysis) and axes labels.\n",
    "* Save the plotted figures as .pngs."
   ]
  },
  {
   "cell_type": "markdown",
   "metadata": {},
   "source": [
    "#### Latitude vs. Temperature Plot"
   ]
  },
  {
   "cell_type": "code",
   "execution_count": 89,
   "metadata": {},
   "outputs": [
    {
     "data": {
      "image/png": "[encoded data removed]",
      "text/plain": [
       "<Figure size 432x288 with 1 Axes>"
      ]
     },
     "metadata": {
      "needs_background": "light"
     },
     "output_type": "display_data"
    }
   ],
   "source": [
    "# Create a Scatter Plot for temperature vs. latitude\n",
    "\n",
    "\n",
    "# Build a scatter plot for each data type\n",
    "plt.scatter(city_info2[\"lat\"], city_info2[\"max_temp\"], marker=\"o\")\n",
    "\n",
    "# Incorporate the other graph properties\n",
    "plt.title(\"City Latitude vs. Max Tempature (04/12/2020)\")\n",
    "plt.ylabel(\"Max Temperature (Fahrenheit)\")\n",
    "plt.xlabel(\"Latitude\")\n",
    "plt.grid(True)\n",
    "\n",
    "# Save the figure\n",
    "plt.savefig(\"LatitudeVSTemperaturePlot.png\")\n",
    "\n",
    "# Show plot\n",
    "plt.show()"
   ]
  },
  {
   "cell_type": "markdown",
   "metadata": {},
   "source": [
    "#### Latitude vs. Humidity Plot"
   ]
  },
  {
   "cell_type": "code",
   "execution_count": 90,
   "metadata": {},
   "outputs": [
    {
     "data": {
      "image/png": "[encoded data removed]",
      "text/plain": [
       "<Figure size 432x288 with 1 Axes>"
      ]
     },
     "metadata": {
      "needs_background": "light"
     },
     "output_type": "display_data"
    }
   ],
   "source": [
    "# Create a Scatter Plot for humidity vs. latitude\n",
    "\n",
    "\n",
    "# Build a scatter plot for each data type\n",
    "plt.scatter(city_info2[\"lat\"], city_info2[\"humidity\"], marker=\"o\")\n",
    "\n",
    "# Incorporate the other graph properties\n",
    "plt.title(\"City Latitude vs. Humidity (04/12/2020)\")\n",
    "plt.ylabel(\"Humidity (%)\")\n",
    "plt.xlabel(\"Latitude\")\n",
    "plt.grid(True)\n",
    "\n",
    "# Save the figure\n",
    "plt.savefig(\"LatitudeVSHumidityPlot.png\")\n",
    "\n",
    "# Show plot\n",
    "plt.show()"
   ]
  },
  {
   "cell_type": "markdown",
   "metadata": {},
   "source": [
    "#### Latitude vs. Cloudiness Plot"
   ]
  },
  {
   "cell_type": "code",
   "execution_count": 91,
   "metadata": {
    "scrolled": true
   },
   "outputs": [
    {
     "data": {
      "image/png": "[encoded data removed]",
      "text/plain": [
       "<Figure size 432x288 with 1 Axes>"
      ]
     },
     "metadata": {
      "needs_background": "light"
     },
     "output_type": "display_data"
    }
   ],
   "source": [
    "# Create a Scatter Plot for cloudiness vs. latitude\n",
    "\n",
    "\n",
    "# Build a scatter plot for each data type\n",
    "plt.scatter(city_info2[\"lat\"], city_info2[\"cloudiness\"], marker=\"o\")\n",
    "\n",
    "# Incorporate the other graph properties\n",
    "plt.title(\"City Latitude vs. Cloudiness (04/12/2020)\")\n",
    "plt.ylabel(\"Cloudiness (%)\")\n",
    "plt.xlabel(\"Latitude\")\n",
    "plt.grid(True)\n",
    "\n",
    "# Save the figure\n",
    "plt.savefig(\"LatitudeVScloudinessPlot.png\")\n",
    "\n",
    "# Show plot\n",
    "plt.show()"
   ]
  },
  {
   "cell_type": "markdown",
   "metadata": {},
   "source": [
    "#### Latitude vs. Wind Speed Plot"
   ]
  },
  {
   "cell_type": "code",
   "execution_count": 92,
   "metadata": {},
   "outputs": [
    {
     "data": {
      "image/png": "[encoded data removed]",
      "text/plain": [
       "<Figure size 432x288 with 1 Axes>"
      ]
     },
     "metadata": {
      "needs_background": "light"
     },
     "output_type": "display_data"
    }
   ],
   "source": [
    "# Create a Scatter Plot for wind speed vs. latitude\n",
    "\n",
    "\n",
    "# Build a scatter plot for each data type\n",
    "plt.scatter(city_info2[\"lat\"], city_info2[\"wind_speed\"], marker=\"o\")\n",
    "\n",
    "# Incorporate the other graph properties\n",
    "plt.title(\"City Latitude vs. Wind Speed (04/12/2020)\")\n",
    "plt.ylabel(\"Wind Speed (%)\")\n",
    "plt.xlabel(\"Latitude\")\n",
    "plt.grid(True)\n",
    "\n",
    "# Save the figure\n",
    "plt.savefig(\"LatitudeVSWind_SpeedPlot.png\")\n",
    "\n",
    "# Show plot\n",
    "plt.show()"
   ]
  },
  {
   "cell_type": "code",
   "execution_count": null,
   "metadata": {},
   "outputs": [],
   "source": []
  },
  {
   "cell_type": "markdown",
   "metadata": {},
   "source": [
    "## Linear Regression"
   ]
  },
  {
   "cell_type": "code",
   "execution_count": 108,
   "metadata": {},
   "outputs": [],
   "source": [
    "# OPTIONAL: Create a function to create Linear Regression plots\n"
   ]
  },
  {
   "cell_type": "code",
   "execution_count": 78,
   "metadata": {},
   "outputs": [],
   "source": [
    "# Create Northern and Southern Hemisphere DataFrames\n"
   ]
  },
  {
   "cell_type": "markdown",
   "metadata": {},
   "source": [
    "####  Northern Hemisphere - Max Temp vs. Latitude Linear Regression"
   ]
  },
  {
   "cell_type": "code",
   "execution_count": 109,
   "metadata": {},
   "outputs": [
    {
     "name": "stdout",
     "output_type": "stream",
     "text": [
      "The r-squared is: -0.8151657406810827\n"
     ]
    },
    {
     "data": {
      "image/png": "[encoded data removed]",
      "text/plain": [
       "<matplotlib.figure.Figure at 0x1a20ab3518>"
      ]
     },
     "metadata": {},
     "output_type": "display_data"
    }
   ],
   "source": []
  },
  {
   "cell_type": "markdown",
   "metadata": {},
   "source": [
    "####  Southern Hemisphere - Max Temp vs. Latitude Linear Regression"
   ]
  },
  {
   "cell_type": "code",
   "execution_count": 110,
   "metadata": {},
   "outputs": [
    {
     "name": "stdout",
     "output_type": "stream",
     "text": [
      "The r-squared is: 0.760263355051646\n"
     ]
    },
    {
     "data": {
      "image/png": "[encoded data removed]",
      "text/plain": [
       "<matplotlib.figure.Figure at 0x1a20012470>"
      ]
     },
     "metadata": {},
     "output_type": "display_data"
    }
   ],
   "source": []
  },
  {
   "cell_type": "markdown",
   "metadata": {},
   "source": [
    "####  Northern Hemisphere - Humidity (%) vs. Latitude Linear Regression"
   ]
  },
  {
   "cell_type": "code",
   "execution_count": 111,
   "metadata": {},
   "outputs": [
    {
     "name": "stdout",
     "output_type": "stream",
     "text": [
      "The r-squared is: 0.10358336015746494\n"
     ]
    },
    {
     "data": {
      "image/png": "[encoded data removed]",
      "text/plain": [
       "<matplotlib.figure.Figure at 0x11ddce780>"
      ]
     },
     "metadata": {},
     "output_type": "display_data"
    }
   ],
   "source": []
  },
  {
   "cell_type": "markdown",
   "metadata": {},
   "source": [
    "####  Southern Hemisphere - Humidity (%) vs. Latitude Linear Regression"
   ]
  },
  {
   "cell_type": "code",
   "execution_count": 112,
   "metadata": {},
   "outputs": [
    {
     "name": "stdout",
     "output_type": "stream",
     "text": [
      "The r-squared is: 0.14689473425583055\n"
     ]
    },
    {
     "data": {
      "image/png": "[encoded data removed]",
      "text/plain": [
       "<matplotlib.figure.Figure at 0x1a20066438>"
      ]
     },
     "metadata": {},
     "output_type": "display_data"
    }
   ],
   "source": []
  },
  {
   "cell_type": "markdown",
   "metadata": {},
   "source": [
    "####  Northern Hemisphere - Cloudiness (%) vs. Latitude Linear Regression"
   ]
  },
  {
   "cell_type": "code",
   "execution_count": 115,
   "metadata": {},
   "outputs": [
    {
     "name": "stdout",
     "output_type": "stream",
     "text": [
      "The r-squared is: -0.08733547918934018\n"
     ]
    },
    {
     "data": {
      "image/png": "[encoded data removed]",
      "text/plain": [
       "<matplotlib.figure.Figure at 0x1a20b2e898>"
      ]
     },
     "metadata": {},
     "output_type": "display_data"
    }
   ],
   "source": []
  },
  {
   "cell_type": "markdown",
   "metadata": {},
   "source": [
    "####  Southern Hemisphere - Cloudiness (%) vs. Latitude Linear Regression"
   ]
  },
  {
   "cell_type": "code",
   "execution_count": 114,
   "metadata": {},
   "outputs": [
    {
     "name": "stdout",
     "output_type": "stream",
     "text": [
      "The r-squared is: 0.21881426893991618\n"
     ]
    },
    {
     "data": {
      "image/png": "[encoded data removed]",
      "text/plain": [
       "<matplotlib.figure.Figure at 0x1a20affa20>"
      ]
     },
     "metadata": {},
     "output_type": "display_data"
    }
   ],
   "source": []
  },
  {
   "cell_type": "markdown",
   "metadata": {},
   "source": [
    "####  Northern Hemisphere - Wind Speed (mph) vs. Latitude Linear Regression"
   ]
  },
  {
   "cell_type": "code",
   "execution_count": 117,
   "metadata": {},
   "outputs": [
    {
     "name": "stdout",
     "output_type": "stream",
     "text": [
      "The r-squared is: 0.1071382774388479\n"
     ]
    },
    {
     "data": {
      "image/png": "[encoded data removed]",
      "text/plain": [
       "<matplotlib.figure.Figure at 0x1a1f4bae48>"
      ]
     },
     "metadata": {},
     "output_type": "display_data"
    }
   ],
   "source": []
  },
  {
   "cell_type": "markdown",
   "metadata": {},
   "source": [
    "####  Southern Hemisphere - Wind Speed (mph) vs. Latitude Linear Regression"
   ]
  },
  {
   "cell_type": "code",
   "execution_count": 116,
   "metadata": {},
   "outputs": [
    {
     "name": "stdout",
     "output_type": "stream",
     "text": [
      "The r-squared is: -0.322483077139538\n"
     ]
    },
    {
     "data": {
      "image/png": "[encoded data removed]",
      "text/plain": [
       "<matplotlib.figure.Figure at 0x1a212ed940>"
      ]
     },
     "metadata": {},
     "output_type": "display_data"
    }
   ],
   "source": []
  },
  {
   "cell_type": "code",
   "execution_count": null,
   "metadata": {},
   "outputs": [],
   "source": []
  }
 ],
 "metadata": {
  "anaconda-cloud": {},
  "kernel_info": {
   "name": "python3"
  },
  "kernelspec": {
   "display_name": "Python 3",
   "language": "python",
   "name": "python3"
  },
  "language_info": {
   "codemirror_mode": {
    "name": "ipython",
    "version": 3
   },
   "file_extension": ".py",
   "mimetype": "text/x-python",
   "name": "python",
   "nbconvert_exporter": "python",
   "pygments_lexer": "ipython3",
   "version": "3.7.7"
  },
  "latex_envs": {
   "LaTeX_envs_menu_present": true,
   "autoclose": false,
   "autocomplete": true,
   "bibliofile": "biblio.bib",
   "cite_by": "apalike",
   "current_citInitial": 1,
   "eqLabelWithNumbers": true,
   "eqNumInitial": 1,
   "hotkeys": {
    "equation": "Ctrl-E",
    "itemize": "Ctrl-I"
   },
   "labels_anchors": false,
   "latex_user_defs": false,
   "report_style_numbering": false,
   "user_envs_cfg": false
  },
  "nteract": {
   "version": "0.12.3"
  }
 },
 "nbformat": 4,
 "nbformat_minor": 2
}
